{
 "cells": [
  {
   "cell_type": "markdown",
   "id": "continent-observation",
   "metadata": {},
   "source": [
    "# Projet : Gravitation et orbites"
   ]
  },
  {
   "cell_type": "markdown",
   "id": "logical-management",
   "metadata": {},
   "source": [
    "![Image d'un planétaire, par Birmingham Museums Trust](orrery.jpg)\n",
    "\n",
    "Dans ce projet, vous allez étudier la physique des orbites des planètes, dont des exoplanètes. À l'échelle du système solaire, le comportement des corps célestes se décrit, à une très bonne approximation, par les lois de Newton (chapitre 2, section 3 des notes de cours) et par la force gravitationnelle (chapitre 2, section 8.1 des NoC). Avec cette liste courte de principes et d'équations, on peut, en principe, décrire avec précision l'évolution temporelle du système -- c'est-à-dire, les orbites des planètes. Cependant, des résolutions analytiques des systèmes à plusieurs corps s'avèrent difficiles, voire impossibles. On a recours, donc, à une résolution numérique.\n",
    "\n",
    "Les compétences à acquérir sont les suivantes :\n",
    "\n",
    "+ La physique des forces, la gravitation, les lois de Newton.\n",
    "+ La manipulation des vecteurs.\n",
    "+ Les changements d'unités.\n",
    "+ L'analyse des données, l'ajustement d'un modèle linéaire aux données.\n",
    "+ La résolution d'un problème par la méthode numérique d'itération.\n",
    "+ Une compréhension des limites de la méthode, et comment évaluer son domaine de validité."
   ]
  },
  {
   "cell_type": "markdown",
   "id": "engaged-seating",
   "metadata": {},
   "source": [
    "---"
   ]
  },
  {
   "cell_type": "markdown",
   "id": "orange-messenger",
   "metadata": {},
   "source": [
    "# 1. Introduction : Les exoplanetes, et la troisième loi de Kepler\n",
    "\n",
    "L'astronome Kepler a identifié trois lois décrivant les orbites des planètes autour d'un astre, dont la troisième est la suivante :\n",
    "$$\\left( \\frac{2\\pi}{P} \\right)^2 \\, a^3 = k$$\n",
    "où\n",
    "$P$ est la période de révolution (techniquement, la période sidérale) de la planète,\n",
    "$a$ est le demi-grand axe de la trajectoire elliptique de la planète, et\n",
    "$k$ est une constante.\n",
    "\n",
    "Newton a montré que la constante $k$ est donnée par la formule suivante :\n",
    "$$k = \\mathcal{G} (M+m) \\approx \\mathcal{G} M$$\n",
    "où\n",
    "$m$ est la masse de la planète,\n",
    "$M$ est la masse de l'astre, et\n",
    "$\\mathcal{G}$ est la constante gravitationnelle : $\\mathcal{G} = 6,674 \\times 10^{-11} \\, \\mathrm{m}^3 \\, \\mathrm{kg}^{-1} \\, \\mathrm{s}^{-2}$.\n",
    "L'approximation $\\mathcal{G}(M+m) \\approx \\mathcal{G}M$ est valable dans la limite où la masse de l'astre est grande devant celle de la planète. Dans cette limite, la valeur de $k$ est identique pour toutes les planètes d'un système solaire.\n",
    "\n",
    "Kepler étudiait notre système solaire, mais ses lois doivent s'appliquer plus largement.\n",
    "La NASA a rassemblé [une base de données d'observations d'exoplanètes](https://exoplanetarchive.ipac.caltech.edu/cgi-bin/TblView/nph-tblView?app=ExoTbls&config=PS),\n",
    "c'est-à-dire des planètes se situant dans des systèmes solaires autres que le nôtre.\n",
    "Dans le fichier ```nasa-exoplanetes.csv```, vous trouverez une fraction de ces données, dans un format adapté à la lecture par un code python.\n",
    "Les données se regroupent sous la forme de quatre colonnes et plusieurs rangées (lignes).\n",
    "Ces quatres colonnes représentent :\n",
    "\n",
    "1. la période de l'orbite de la planète, $P$, en jours ;\n",
    "2. le demi-[grand axe](https://fr.wikipedia.org/wiki/Grand_axe) de la trajectoire, $a$, en au ([unités astronomique](https://fr.wikipedia.org/wiki/Unit%C3%A9_astronomique)) ;\n",
    "3. la masse de la planète, $m$, en unités de [masses terrestres](https://fr.wikipedia.org/wiki/Masse_terrestre_(unit%C3%A9)) (1 $M_T$ = la masse de la Terre) ;\n",
    "4. la masse de l'astre, $M$, en unités de [masses solaires](https://fr.wikipedia.org/wiki/Masse_solaire) (1 $M_S$ = la masse du Soleil).\n",
    "\n",
    "Dans cette première partie, nous allons lire et étudier ces données afin de tester la théorie de Kepler.\n",
    "\n",
    "### Étape 1 : lecture du fichier\n",
    "\n",
    "[Q1] En utilisant ```numpy```, lire le contenu du fichier CSV et stocker le dans un tableau (array) bidimensionnel que vous appelerez `fiche`.\n",
    "(Par exemple, la méthode ```numpy.loadtxt()``` permettrait d'obtenir un tel tableau.)"
   ]
  },
  {
   "cell_type": "code",
   "execution_count": 1,
   "id": "patient-silly",
   "metadata": {},
   "outputs": [
    {
     "data": {
      "text/plain": [
       "array([[3.26030000e+02, 1.29000000e+00, 6.16560000e+03, 2.70000000e+00],\n",
       "       [5.16220000e+02, 1.54000000e+00, 3.33707000e+03, 1.80000000e+00],\n",
       "       [1.85840000e+02, 8.30000000e-01, 1.52550000e+03, 2.20000000e+00],\n",
       "       [1.76641000e+03, 2.83000000e+00, 1.54146777e+03, 9.70000000e-01],\n",
       "       [7.99450000e+02, 1.67600000e+00, 5.56835370e+02, 9.80000000e-01],\n",
       "       [9.93300000e+02, 2.60000000e+00, 3.27350000e+03, 2.30000000e+00],\n",
       "       [3.03506000e+01, 1.90000000e-01, 2.89225300e+02, 9.90000000e-01],\n",
       "       [4.52800000e+02, 1.33300000e+00, 6.32460000e+02, 1.54000000e+00],\n",
       "       [8.83000000e+02, 2.08000000e+00, 2.73320000e+02, 1.54000000e+00],\n",
       "       [4.16000000e+02, 9.20000000e-01, 6.03877000e+02, 4.80000000e-01],\n",
       "       [3.35100000e+02, 9.95000000e-01, 3.14003000e+03, 1.16000000e+00],\n",
       "       [2.69300000e+02, 8.70000000e-01, 2.25650000e+03, 1.23000000e+00],\n",
       "       [4.79100000e+02, 1.19000000e+00, 1.23313000e+03, 9.80000000e-01],\n",
       "       [1.07660000e+03, 2.05900000e+00, 7.74865660e+02, 1.01000000e+00],\n",
       "       [2.28700000e+03, 3.40400000e+00, 1.57960720e+02, 1.01000000e+00],\n",
       "       [4.23078500e+00, 5.27000000e-02, 1.50009000e+02, 1.03000000e+00],\n",
       "       [1.46516000e+01, 1.13400000e-01, 2.55400000e+02, 9.10000000e-01],\n",
       "       [4.43800000e+01, 2.37000000e-01, 5.24400000e+01, 9.00000000e-01]])"
      ]
     },
     "execution_count": 1,
     "metadata": {},
     "output_type": "execute_result"
    }
   ],
   "source": [
    "# [Q1 : votre code ici]\n",
    "import numpy as np\n",
    "a=\"nasa-exoplanetes.csv\"\n",
    "fiche=np.loadtxt(a, delimiter=\",\")\n",
    "fiche"
   ]
  },
  {
   "cell_type": "markdown",
   "id": "facial-technology",
   "metadata": {},
   "source": [
    "### Étape 2 : calcul\n",
    "\n",
    "Ensuite, nous allons traiter les données, une ligne à la fois.\n",
    "Pour ce faire, il vous faudra une boucle `for`.\n",
    "**Pour chaque planète** (chaque ligne du tableau) :\n",
    "\n",
    "+ [Q2] Extraire les paramètres $P$, $a$, $m$, et $M$.\n",
    "+ [Q3] Calculer la valeur de $f = \\frac{a^3}{P^2 M}$ et imprimer sa valeur sous une forme semblable à la suivante :\n",
    "```La valeur de f de la [...]ième planète est [...] au^3 jour^-2 MS^-1```\n",
    "(où vous remplacerez les ```[...]``` par des chiffres). Stocker cette valeur dans un array."
   ]
  },
  {
   "cell_type": "code",
   "execution_count": 2,
   "id": "conditional-prefix",
   "metadata": {
    "scrolled": true
   },
   "outputs": [
    {
     "name": "stdout",
     "output_type": "stream",
     "text": [
      "La valeur de f de la 1 -ième planète est 7.479804361237443e-06 au^3 jour^-2 MS^-1\n",
      "La valeur de f de la 2 -ième planète est 7.6141250378707166e-06 au^3 jour^-2 MS^-1\n",
      "La valeur de f de la 3 -ième planète est 7.525462617103386e-06 au^3 jour^-2 MS^-1\n",
      "La valeur de f de la 4 -ième planète est 7.488667410035809e-06 au^3 jour^-2 MS^-1\n",
      "La valeur de f de la 5 -ième planète est 7.516460049253657e-06 au^3 jour^-2 MS^-1\n",
      "La valeur de f de la 6 -ième planète est 7.74517681881957e-06 au^3 jour^-2 MS^-1\n",
      "La valeur de f de la 7 -ième planète est 7.521267693499806e-06 au^3 jour^-2 MS^-1\n",
      "La valeur de f de la 8 -ième planète est 7.5016516128901155e-06 au^3 jour^-2 MS^-1\n",
      "La valeur de f de la 9 -ième planète est 7.494589959136721e-06 au^3 jour^-2 MS^-1\n",
      "La valeur de f de la 10 -ième planète est 9.374229536489154e-06 au^3 jour^-2 MS^-1\n",
      "La valeur de f de la 11 -ième planète est 7.5624479288266e-06 au^3 jour^-2 MS^-1\n",
      "La valeur de f de la 12 -ième planète est 7.382100265489048e-06 au^3 jour^-2 MS^-1\n",
      "La valeur de f de la 13 -ième planète est 7.491391032227031e-06 au^3 jour^-2 MS^-1\n",
      "La valeur de f de la 14 -ième planète est 7.456566838677783e-06 au^3 jour^-2 MS^-1\n",
      "La valeur de f de la 15 -ième planète est 7.466463583606955e-06 au^3 jour^-2 MS^-1\n",
      "La valeur de f de la 16 -ième planète est 7.938760663413883e-06 au^3 jour^-2 MS^-1\n",
      "La valeur de f de la 17 -ième planète est 7.464963080781758e-06 au^3 jour^-2 MS^-1\n",
      "La valeur de f de la 18 -ième planète est 7.509792421182862e-06 au^3 jour^-2 MS^-1\n"
     ]
    }
   ],
   "source": [
    "# [votre code ici pour Q2]\n",
    "P = np.array([])\n",
    "a = np.array([])\n",
    "m = np.array([])\n",
    "M = np.array([])\n",
    "for i in range(len(fiche)):\n",
    "    P = np.append(P,fiche[i,0])\n",
    "    a = np.append(a,fiche[i,1])\n",
    "    m = np.append(m,fiche[i,2])\n",
    "    M = np.append(M,fiche[i,3])\n",
    "# [votre code ici pour Q3, utilisant une boucle 'for']\n",
    "f = np.array([])\n",
    "for x,y,z in zip(P,a,M):\n",
    "    f = np.append(f, ((y**3)/((x**2)*z)))\n",
    "for j in range(len(f)):\n",
    "    print(\"La valeur de f de la\", j+1, \"-ième planète est\", f[j], \"au^3 jour^-2 MS^-1\")"
   ]
  },
  {
   "cell_type": "markdown",
   "id": "soviet-charles",
   "metadata": {},
   "source": [
    "[Q4] Que constatez-vous ?"
   ]
  },
  {
   "cell_type": "markdown",
   "id": "insured-joyce",
   "metadata": {},
   "source": [
    "_la valeur de f des différentes planètes se rassemblent et sont environs 7.5e-06 au^3 jour^-2 MS^-1_"
   ]
  },
  {
   "cell_type": "markdown",
   "id": "special-oasis",
   "metadata": {},
   "source": [
    "[Q5] Calculer la moyenne et l'écart-type de l'ensemble de vos valeurs de $f$\n",
    "(en utilisant ```numpy.mean()``` et ```numpy.std()``` ou autrement)."
   ]
  },
  {
   "cell_type": "code",
   "execution_count": 3,
   "id": "innocent-spotlight",
   "metadata": {},
   "outputs": [
    {
     "name": "stdout",
     "output_type": "stream",
     "text": [
      "la moyenne de f = 7.640773383919017e-06\n",
      "l'écart-type de f = 4.375324460955931e-07\n"
     ]
    }
   ],
   "source": [
    "# [votre code ici pour Q5]\n",
    "print(\"la moyenne de f =\", np.mean(f))\n",
    "print(\"l'écart-type de f =\", np.std(f))"
   ]
  },
  {
   "cell_type": "markdown",
   "id": "searching-cameroon",
   "metadata": {},
   "source": [
    "### Étape 3 : graphique\n",
    "\n",
    "Il convient de visualiser des données sous forme d'un graphique.\n",
    "\n",
    "[Q6] Pour chaque planète, calculer les deux quantités suivantes. Stockez-les dans des arrays (un array pour les $x$, un autre pour les $y$).\n",
    "\n",
    "+ les abscisses $x = P^2 M$\n",
    "+ les ordonnées $y = a^3$\n",
    "\n",
    "et puis tracer un nuage de points (en utilisant ```matplotlib.pyplot.scatter()``` ou autrement). N'oubliez pas d'ajouter un titre et nommer vos axes (avec les bonnes unités)."
   ]
  },
  {
   "cell_type": "code",
   "execution_count": 4,
   "id": "confidential-yukon",
   "metadata": {},
   "outputs": [
    {
     "data": {
      "text/plain": [
       "<matplotlib.legend.Legend at 0x25d47909640>"
      ]
     },
     "execution_count": 4,
     "metadata": {},
     "output_type": "execute_result"
    },
    {
     "data": {
      "image/png": "[encoded data removed]",
      "text/plain": [
       "<Figure size 640x480 with 1 Axes>"
      ]
     },
     "metadata": {},
     "output_type": "display_data"
    }
   ],
   "source": [
    "# [votre code ici pour Q6]\n",
    "x = np.array([])\n",
    "y = np.array([])\n",
    "for i,j,k in zip(P,a,M):\n",
    "    x = np.append(x, (i**2)*k)\n",
    "    y = np.append(y, j**3)\n",
    "import matplotlib.pyplot as plt\n",
    "fig1 = plt.scatter(x,y,label=\"point(x,y)\", c = 'orange', s = 1)\n",
    "plt.xlabel(\"x = (P^2)*M\")\n",
    "plt.ylabel(\"y = a^3\")\n",
    "plt.title(\"un nuage de points\")\n",
    "plt.legend()"
   ]
  },
  {
   "cell_type": "markdown",
   "id": "inclusive-florence",
   "metadata": {},
   "source": [
    "### Étape 4 : ajustement et interpretation\n",
    "\n",
    "[Q7] Effectuer un ajustement linéaire aux données (avec ```numpy.polyfit()``` ou autrement).\n",
    "Dessiner un graphique incluant la fonction ajustée et les données (sous forme d'un nuage de points)."
   ]
  },
  {
   "cell_type": "code",
   "execution_count": 5,
   "id": "capital-education",
   "metadata": {},
   "outputs": [
    {
     "name": "stdout",
     "output_type": "stream",
     "text": [
      "[7.49317441e-06 3.36046234e-02]\n"
     ]
    },
    {
     "data": {
      "text/plain": [
       "<matplotlib.legend.Legend at 0x25d455ce4f0>"
      ]
     },
     "execution_count": 5,
     "metadata": {},
     "output_type": "execute_result"
    },
    {
     "data": {
      "image/png": "[encoded data removed]",
      "text/plain": [
       "<Figure size 640x480 with 1 Axes>"
      ]
     },
     "metadata": {},
     "output_type": "display_data"
    }
   ],
   "source": [
    "# [votre code ici pour Q7]\n",
    "coef = np.polyfit(x,y,1)\n",
    "print(coef)\n",
    "y1=np.poly1d(coef)\n",
    "plt.scatter(x,y, label ='fonction originale')\n",
    "plt.scatter(x,y1(x), label = 'ajustement linéaire')\n",
    "plt.xlabel(\"x = (P^2)*M\")\n",
    "plt.ylabel(\"y = a^3\")\n",
    "plt.title(\"fonction originale et ajustement linéaire\")\n",
    "plt.legend()"
   ]
  },
  {
   "cell_type": "markdown",
   "id": "frequent-today",
   "metadata": {},
   "source": [
    "[Q8] Commenter l'ajustement. (Les données, sont-elles cohérentes avec la fonction ?)\n",
    "\n",
    "[Q9] Selon la loi de Kepler, la droite passe par l'origine. Est-ce bien le cas ? (L'ordonnée à l'origine, est-elle cohérente avec zéro ?) Que vaut le coefficient directeur de la droite ? Est-il cohérent avec la moyenne calculée précédemment ?"
   ]
  },
  {
   "cell_type": "markdown",
   "id": "persistent-africa",
   "metadata": {},
   "source": [
    "_Q8 Commentaire: les données sont cohérentes avec la fonction, on observe sur la graphique qu'il n'y a pas de grande écarte entre les abscisses de la fonction originale et les abscisses trouvés en appliquant l'ajustement linéaire grâce à numpy.polyfit Q9 L'ordonné à l'origine est cohérente avec zéro, donc c'est vrai selon la loi de Kepler. Le coefficient directeur de la droite trouvé par un ajustement linéaire est [7.49317441e-06 3.36046234e-02], il est cohérent avec la moyenne calculée précédemment_"
   ]
  },
  {
   "cell_type": "markdown",
   "id": "beginning-bridal",
   "metadata": {},
   "source": [
    "**Pour aller plus loin :** [Q10] Le coefficient directeur de la droite, est-il cohérent avec la théorie ?\n",
    " * Attention, cette question Q10 nécessite un peu de travail. Les équations de l'introduction ci-dessus permettent de determiner la valeur théorique, en fonction de constantes connues (G et pi). Cependant, G s'exprime en unités SI ($\\mathrm{m}^3~\\mathrm{kg}^{-1}~\\mathrm{s}^{-1}$), mais le coefficient directeur s'exprime en d'autres unités (au, jours, masses solaires). Il faudra passer d'un système d'unités à l'autre. Pour ce faire, posez-vous les questions suivantes : Combien de mètres vaut 1au (une unité astronomique) ? Combien de s vaut un jour ? Combien de kg vaut la masse solaire $M_S$ ?"
   ]
  },
  {
   "cell_type": "code",
   "execution_count": 6,
   "id": "satellite-tribute",
   "metadata": {},
   "outputs": [
    {
     "name": "stdout",
     "output_type": "stream",
     "text": [
      "1.6905439490724056e-12\n"
     ]
    },
    {
     "data": {
      "text/plain": [
       "array([1.69003299e-12, 7.57928739e-09])"
      ]
     },
     "execution_count": 6,
     "metadata": {},
     "output_type": "execute_result"
    }
   ],
   "source": [
    "# [votre code ici pour Q10]\n",
    "G = 6.674e-11 \n",
    "k = G/(4*np.pi**2)\n",
    "print(k)\n",
    "#1 au = 149597828677.28 m ; 1 jour = 86400 s ; 1 Ms = 1.98847e+30 kg\n",
    "coef*149597828677.28**3/(86400**2*1.98847e+30)\n",
    "\n",
    "\n"
   ]
  },
  {
   "cell_type": "markdown",
   "id": "chemical-viewer",
   "metadata": {},
   "source": [
    "_Le coefficient directeur de la droite est cohérent avec la théorie_"
   ]
  },
  {
   "cell_type": "markdown",
   "id": "muslim-vienna",
   "metadata": {},
   "source": [
    "---"
   ]
  },
  {
   "cell_type": "markdown",
   "id": "simple-saturday",
   "metadata": {},
   "source": [
    "# 2. Modélisation simple d'un système simple\n",
    "\n",
    "## 2.1 : Introduction\n",
    "\n",
    "Rappelons la loi de Newton (le principe fondamental de la dynamique):\n",
    "$$m_{\\mathrm{tot}} \\frac{\\mathrm{d}\\vec{v}_C}{\\mathrm{d}t} = \\vec{F}_{\\mathrm{tot}}$$\n",
    "où\n",
    "$m_{\\mathrm{tot}}$ est la masse totale d'un système,  \n",
    "$\\vec{v}_C$ est la vitesse (vectorielle) du centre de masse $C$ du système, et  \n",
    "$\\vec{F}_{\\mathrm{tot}}$ est la résultante des forces extérieures qui s'appliquent sur le système.\n",
    "\n",
    "Rappelons également comment calculer la force gravitationnelle entre deux corps :\n",
    "$$\\vec{F}_{A\\to B} = -\\mathcal{G} \\frac{m_A m_B}{||\\vec{AB}||^2} \\vec{u}_{AB}$$\n",
    "où\n",
    "$\\vec{F}_{A\\to B}$ est la force exercé par un corps (ou un système d'objets) $A$ de masse $m_A$ sur un corps $B$ de masse $m_B$,  \n",
    "$\\vec{AB}$ est la distance vectorielle entre les centres de masse des deux corps,  \n",
    "$\\mathcal{G}$ est la constante gravitationnelle,  et\n",
    "$\\vec{u}_{AB}$ est le vecteur unitaire de la distance entre les deux corps :\n",
    "$$\\vec{u}_{AB} = \\frac{\\vec{AB}}{||\\vec{AB}||}$$\n",
    "\n",
    "Nous allons mettre en oeuvre une résolution numérique de ces équations.\n",
    "Nous étudierons d'abord des systèmes suffisamment simples qu'ils permettent\n",
    "aussi des résolutions _analytiques_. L'intérêt est de comparer les deux approches\n",
    "afin de valider l'approche numérique et de comprendre ses limites.\n",
    "\n",
    "![Illustration des vecteurs](fig-vecteurs-1.png)\n",
    "\n",
    "Vous trouverez ci-dessus une illustration des vecteurs pour les deux corps A et B.\n",
    "Noter que les deux forces $\\vec{F}_{A\\to B}$ et $\\vec{F}_{B\\to A}$ sont de normes\n",
    "identiques mais de sens opposés ; dans le cas de la gravitation, elles dirigent\n",
    "A vers B et, inversement, B vers A. Noter en plus que nous n'avons à aucun point\n",
    "indiqué les vitesses des deux corps, car les forces gravitationnelles ne dépendent pas d'eux\n",
    "(s'expriment uniquement en fonction des masses et de la distance vectorielle $\\vec{AB}$).\n",
    "Par exemple, voici **une configuration possible** des vecteurs vitesses $\\vec{v}_A$ et $\\vec{v}_B$ :\n",
    "\n",
    "![Illustration des vecteurs](fig-vecteurs-2.png)"
   ]
  },
  {
   "cell_type": "markdown",
   "id": "instant-population",
   "metadata": {},
   "source": [
    "## 2.2 : Calculer la distance et la force entre deux corps\n",
    "\n",
    "Un vecteur en trois dimensions, par exemple la vitesse du corps $A$, peut se représenter sous la forme de trois nombres.\n",
    "Dans ce projet, nous utiliserons les coordonnées cartésiennes $\\vec{x} = (x,y,z)$, et nous représenterons des vecteurs en python par des objets `numpy.array`.\n",
    "\n",
    "Nous aurons besoin, à plusieurs reprises, de calculer la distance vectorielle (vecteur déplacement) entre deux points, et d'en déduire sa norme et sa direction. Par exemple :"
   ]
  },
  {
   "cell_type": "code",
   "execution_count": 7,
   "id": "elder-template",
   "metadata": {},
   "outputs": [],
   "source": [
    "import numpy as np\n",
    "import math\n",
    "\n",
    "# Nous définissons deux vecteurs, qui répresentent des positions de deux objets :\n",
    "exempleVecA = np.array([0.0, 0.0, 1.0]) # en mètres\n",
    "exempleVecB = np.array([0.0, 2.0, 1.0]) # en mètres\n",
    "\n",
    "# Nous calculons le vecteur déplacement :\n",
    "exempleVecDiff = exempleVecB - exempleVecA # en mètres\n",
    "# Le produit scalaire de cette différence avec elle-même (la magnitude au carré) :\n",
    "exempleVecDiffMagCarre = exempleVecDiff.dot(exempleVecDiff) # en m^2\n",
    "# La magnitude :\n",
    "exempleVecDiffMag = math.sqrt(exempleVecDiffMagCarre) # en mètres\n",
    "# Le vecteur unitaire associé :\n",
    "exempleVecDiffUnitaire = exempleVecDiff / exempleVecDiffMag # sans unités"
   ]
  },
  {
   "cell_type": "markdown",
   "id": "governing-serial",
   "metadata": {},
   "source": [
    "[Q11] Muni de ces outils, écrire une fonction python qui calcule la force vectorielle entre deux corps A et B, dont les positions sont `xA` et `xB` (deux objets de type numpy.array), et dont les masses sont `mA` et `mB`. La force étant un vecteur, la fonction doit renvoyer un numpy.array. Vous pouvez utiliser la trame suivante :\n",
    "\n",
    "```python\n",
    "def forceGravitationnelle(xA, xB, mA, mB):\n",
    "    # votre code ici\n",
    "    F = [...] # vous calculez la force\n",
    "    return F\n",
    "```"
   ]
  },
  {
   "cell_type": "code",
   "execution_count": 8,
   "id": "particular-lesson",
   "metadata": {},
   "outputs": [],
   "source": [
    "# [votre code ici pour Q11]\n",
    "def forceGravitationnelle(xA,xB,mA,mB):\n",
    "    G = 6.674e-11\n",
    "    vecdiff = xB-xA\n",
    "    vecdiffmagcarre = vecdiff.dot(vecdiff)\n",
    "    vecdiffmag = math.sqrt(vecdiffmagcarre)\n",
    "    vecdiffunitaire = vecdiff/vecdiffmag\n",
    "    F = -G*(mA*mB)*vecdiffunitaire/vecdiffmagcarre\n",
    "    return F   "
   ]
  },
  {
   "cell_type": "markdown",
   "id": "radical-purchase",
   "metadata": {},
   "source": [
    "Il est une bonne pratique de tester et de vérifier le code que l'on vient d'écrire. Dans l'exemple ci-dessus, nous avons défini deux objets séparés d'une distance de deux mètres dans la direction $+y$. Soient leurs masses 1kg. On peut calculer la norme de la force (on obtient $1,6685 \\times 10^{-11} \\, \\mathrm{kg} \\, \\mathrm{m} \\, \\mathrm{s}^{-2}$).\n",
    "Et l'orientation ? $\\vec{F}_{A\\to B}$ est la force exercé par A sur B, c'est-à-dire la force subie par B ; la force gravitationnelle étant attractive, elle va diriger B vers A, donc dans la direction $-y$, c'est-à-dire $(0, -1, 0)$. Est-ce bien le cas ? Le code ci-dessous effectuera ce test (après que vous avez défini la fonction `forceGravitationelle` dans la Q11 ; si vous avez choisi un autre nom, il faudrait faire une modification correspondante) :"
   ]
  },
  {
   "cell_type": "markdown",
   "id": "interior-connectivity",
   "metadata": {},
   "source": [
    "```python\n",
    "exempleForce = forceGravitationnelle(exempleVecA, exempleVecB, 1.0, 1.0)\n",
    "exempleForceMagnitude = math.sqrt(exempleForce.dot(exempleForce))\n",
    "print(\"La force est\", exempleForce, \"kg m s^{-2}.\")\n",
    "print(\"Sa magnitude vaut \", exempleForceMagnitude, \"kg m s^{-2}\")\n",
    "print(\"Son vecteur unitaire est\", exempleForce/exempleForceMagnitude)\n",
    "```"
   ]
  },
  {
   "cell_type": "markdown",
   "id": "south-lingerie",
   "metadata": {},
   "source": [
    "[Q12] Ajouter ces lignes de code et effectuer ce test. Si tout est correct, le résultat de ce test simple devrait se ressembler à la suivante :\n",
    "\n",
    "```\n",
    "La force est [-0.0000e+00 -1.6685e-11 -0.0000e+00] kg m s^{-2}.\n",
    "Sa magnitude vaut  1.6685e-11 kg m s^{-2}\n",
    "Son vecteur unitaire est [-0. -1. -0.]\n",
    "```"
   ]
  },
  {
   "cell_type": "code",
   "execution_count": 9,
   "id": "focused-priority",
   "metadata": {},
   "outputs": [
    {
     "name": "stdout",
     "output_type": "stream",
     "text": [
      "La force est [-0.0000e+00 -1.6685e-11 -0.0000e+00] kg m s^{-2}.\n",
      "Sa magnitude vaut  1.6685e-11 kg m s^{-2}\n",
      "Son vecteur unitaire est [-0. -1. -0.]\n"
     ]
    }
   ],
   "source": [
    "# [votre code ici pour Q12]\n",
    "exempleForce = forceGravitationnelle(exempleVecA, exempleVecB, 1.0, 1.0)\n",
    "exempleForceMagnitude = math.sqrt(exempleForce.dot(exempleForce))\n",
    "print(\"La force est\", exempleForce, \"kg m s^{-2}.\")\n",
    "print(\"Sa magnitude vaut \", exempleForceMagnitude, \"kg m s^{-2}\")\n",
    "print(\"Son vecteur unitaire est\", exempleForce/exempleForceMagnitude)"
   ]
  },
  {
   "cell_type": "markdown",
   "id": "protected-approach",
   "metadata": {},
   "source": [
    "## 2.3 : Premier jet : un champ gravitationnel statique\n",
    "\n",
    "Ayant écrit et testé ces outils, nous pouvons ensuite simuler un système plus intéressant !\n",
    "On considère un système constitué du Soleil (corps A) et de la Terre (corps B).\n",
    "Nous souhaitons modéliser le trajet de la Terre autour du Soleil.\n",
    "Dans ce premier exercice, le Soleil est supposé fixe et immobile à l'origine.\n",
    "\n",
    "La masse du Soleil vaut $1,9885 \\times 10^{30} \\, \\mathrm{kg}$.\n",
    "La masse de la Terre vaut $5,972 \\times 10^{24} \\, \\mathrm{kg}$."
   ]
  },
  {
   "cell_type": "markdown",
   "id": "corresponding-paintball",
   "metadata": {},
   "source": [
    "### Exercice : calculer la force subie par la Terre\n",
    "\n",
    "À t=0 (c'est-à-dire dans les conditions initialles), la Terre se trouve à une distance \n",
    "$d_0 = 149 \\, 596 \\, 006 \\, \\mathrm{km}$\n",
    "du Soleil.\n",
    "On place la Terre à $x_B = (d_0, 0, 0)$. Le soleil est forcément à $x_A = (0,0,0)$.\n",
    "\n",
    "[Q13] Utiliser votre fonction pour évaluer la force gravitationnelle (vectorielle) subie par la Terre à cet instant, en unités SI."
   ]
  },
  {
   "cell_type": "code",
   "execution_count": 10,
   "id": "sixth-inflation",
   "metadata": {},
   "outputs": [
    {
     "data": {
      "text/plain": [
       "array([-3.5415355e+22, -0.0000000e+00, -0.0000000e+00])"
      ]
     },
     "execution_count": 10,
     "metadata": {},
     "output_type": "execute_result"
    }
   ],
   "source": [
    "# [votre code ici pour Q13]\n",
    "d0 = 149596006e3\n",
    "xTerre = np.array([d0,0,0])\n",
    "xSoleil = np.array([0,0,0])\n",
    "mTerre = 5.972e24\n",
    "mSoleil = 1.9885e30\n",
    "forceGravitationnelle(xSoleil,xTerre,mSoleil,mTerre)"
   ]
  },
  {
   "cell_type": "markdown",
   "id": "headed-calcium",
   "metadata": {},
   "source": [
    "[Q14] Ensuite, faites le calcul vous-même (sur papier, ou avec une calculatrice) et vérifiez que vos deux valeurs sont cohérentes."
   ]
  },
  {
   "cell_type": "markdown",
   "id": "systematic-collection",
   "metadata": {},
   "source": [
    "_la valveur obtenue avec une calculatrice est la même que celle obtenue avec la fonction forceGravitationnelle_"
   ]
  },
  {
   "cell_type": "markdown",
   "id": "palestinian-onion",
   "metadata": {},
   "source": [
    "## 2.4 : L'évolution du système\n",
    "\n",
    "Mais la Terre ne va pas rester à cette position initiale : elle se déplace ! Nous calculerons son trajet en suivant une approche numérique itérative, en faisant une série de calculs par pas de temps $dt$."
   ]
  },
  {
   "cell_type": "markdown",
   "id": "genetic-election",
   "metadata": {},
   "source": [
    "Supposons que le pas $dt$ soit suffisamment court pour que la réponse du système soit linéaire, c'est-à-dire\n",
    "\n",
    "$$\\vec{x}_B(t + dt) = \\vec{x}_B(t) + d\\vec{x} = \\vec{x}_B(t) + \\vec{v}_B(t) dt$$\n",
    "$$\\vec{v}_B(t + dt) = \\vec{v}_B(t) + d\\vec{v} = \\vec{v}_B(t) + \\vec{a}_B(t) dt$$\n",
    "\n",
    "où $\\vec{x}_B(t)$ est la position de la Terre au temps $t$, $\\vec{v}_B(t)$ est sa vitesse, et $\\vec{a}_B(t)$ est son accéleration.\n",
    "On procède comme suite :\n",
    "\n",
    "- On définie les conditions initiales : les valeurs des paramètres $\\vec{x}_B(t)$ et $\\vec{v}_B(t)$ à $t=0$.\n",
    "- On calcule $\\vec{F}_{A\\to B}(t)$ et ainsi $\\vec{a}_B(t)$ à $t=0$.\n",
    "- Sachant la vitesse et l'accéleration à $t=0$, on calcule les paramètres à $dt$ : $\\vec{x}_B(dt)$ et $\\vec{v}_B(dt)$. On en déduit la force et ainsi l'accéleration à $t=dt$.\n",
    "- Avec ces nouvelles valeurs à $t=dt$, on calcule les paramètres à $t=2dt$.\n",
    "- Avec ces nouvelles valeurs à $t=2dt$, on calcule les paramètres à $t=3dt$.\n",
    "- (etc)\n",
    " \n",
    "Voici une illustration de l'approche (avec un pas plutôt grossier). À chaque point $i=0,1,...,6$, on détermine la position ($\\vec{x}_i$), la vitesse ($\\vec{v}_i$), et la force subie ($\\vec{F}_i$). Notez que, par exemple, on calcule $\\vec{x}_1 = \\vec{x}_0 + \\vec{v}_0 dt$ et non avec une formule trigonométrique.\n",
    "\n",
    "![Illustration des vecteurs](fig-vecteurs-4.png)\n",
    " \n",
    "Ceci est une approche itérative. Parce que nous allons refaire les calculs de nombreuses fois, nous aimerions écrire un bloc de code réutilisable dans des boucles.\n",
    "\n",
    "### Exercice : avancer un pas\n",
    "\n",
    "[Q15] Écrire une fonction qui prend en entrée les valeurs actuelles de `xA`, `xB`, et `vB` et un pas `dt`, qui fait avancer la position et la vitesse de la Terre d'un pas, et qui renvoie les nouvelles valeurs.\n",
    "(Dans ce modèle simplifié, le Soleil reste fixe à l'origine. Parce qu'il ne bouge pas, nous ne précisons pas sa vitesse nulle `vA`.)\n",
    "Vous pouvez utiliser la trame suivante :\n",
    "\n",
    "```\n",
    "def champStatiqueAvanceUnPas(xA, xB, vB, dt):\n",
    "    # votre code ici\n",
    "    nouvelle_xB = [...]\n",
    "    nouvelle_vB = [...]\n",
    "    return nouvelle_xB, nouvelle_vB\n",
    "```\n",
    "\n",
    "Point technique : Python traite des nombres simples (comme `dt`) un peu différemment des objets composés (comme `xB`). Selon la structure de votre code, vous pourriez avoir besoin de créer une nouvelle copie d'un vecteur avant de le manipuler, par exemple :\n",
    "\n",
    "```\n",
    "    dxB = dt * numpy.array(vB)\n",
    "````"
   ]
  },
  {
   "cell_type": "code",
   "execution_count": 11,
   "id": "stuffed-preliminary",
   "metadata": {},
   "outputs": [],
   "source": [
    "# [votre code ici pour Q15]\n",
    "def champStatiqueAvanceUnPas(xA, xB, vB, dt):\n",
    "    # votre code ici\n",
    "    Ft = forceGravitationnelle(xA,xB,mSoleil,mTerre)\n",
    "    aB = Ft/mTerre\n",
    "    dvB = dt*np.array(aB)\n",
    "    dxB = dt*np.array(vB)\n",
    "    nouvelle_xB = xB + dxB\n",
    "    nouvelle_vB = vB + dvB\n",
    "    return nouvelle_xB, nouvelle_vB"
   ]
  },
  {
   "cell_type": "markdown",
   "id": "interracial-smell",
   "metadata": {},
   "source": [
    "[Q16] Ensuite, tester la fonction. Par exemple, avec une vitesse initiale de **29,78 km/s** vers $+y$ et un pas de 1s, on attend que la Terre se déplace d'environ 30km vers $+y$ lors du pas, et que sa vitesse évolue vers le Soleil (vers $-x$).\n",
    "Ajouter un test et vérifier qu'il donne un résultat raisonnable."
   ]
  },
  {
   "cell_type": "code",
   "execution_count": 12,
   "id": "foreign-machinery",
   "metadata": {},
   "outputs": [
    {
     "data": {
      "text/plain": [
       "(array([1.49596006e+11, 2.97800000e+04, 0.00000000e+00]),\n",
       " array([-5.93023359e-03,  2.97800000e+04,  0.00000000e+00]))"
      ]
     },
     "execution_count": 12,
     "metadata": {},
     "output_type": "execute_result"
    }
   ],
   "source": [
    "# [votre code ici pour Q16]\n",
    "v0 = 29.78e3\n",
    "champStatiqueAvanceUnPas(xSoleil,xTerre,[0,v0,0],1)"
   ]
  },
  {
   "cell_type": "markdown",
   "id": "liquid-above",
   "metadata": {},
   "source": [
    "## 2.5 : Point sur le choix du pas\n",
    "\n",
    "Le pas ($dt$) n'est pas un paramètre physique : il ne correspond pas à une propriété observable du système solaire. En principe, on devrait trouver des résultats semblables pour tout choix _valable_ de dt (c'est-à-dire, pour tout choix qui valide l'hypothèse que l'évolution du système est linéaire pendant l'intervalle $dt$). Cependant, il est un paramètre de notre modèle, et un mauvais choix du pas peut fausser le résultat. En général, on veut que le pas soit le plus court possible.\n",
    "Mais la précision a son prix : plus $dt$ est petit, plus le temps de calcul augmente. Un pas très, très petit peut aussi engendrer des problèmes de précision numérique. Dans ce projet, vous devrez choisir un pas adapté au problème, et étudier l'effet de la variation de sa valeur."
   ]
  },
  {
   "cell_type": "markdown",
   "id": "falling-israeli",
   "metadata": {},
   "source": [
    "#### Exercice : L'orbite de la terre\n",
    "\n",
    "On va maintentant suivre la Terre autour du Soleil. On prend des valeurs initiales suivantes : \n",
    "\n",
    "$$\\vec{x}(t=0) = (d_0, 0, 0)$$\n",
    "$$\\vec{v}(t=0) = (0, v_0, 0)$$\n",
    "où\n",
    "$$d_0 = 149 \\, 596 \\, 006 \\, \\mathrm{km}$$\n",
    "$$v_0 = 29,78 \\, \\mathrm{km} \\, \\mathrm{s}^{-1}$$\n",
    "\n",
    "[Q17] Choisir un pas $dt$, et déterminer le nombre $N$ de pas correspondent à un an. Ensuite, utilisez votre fonction (définie dans la question 15) $N$ fois et déterminer la position de la Terre après un an."
   ]
  },
  {
   "cell_type": "code",
   "execution_count": 13,
   "id": "pressed-citation",
   "metadata": {},
   "outputs": [
    {
     "name": "stdout",
     "output_type": "stream",
     "text": [
      "[1.49596006e+11 1.49596003e+11 1.49595994e+11 ... 1.49596133e+11\n",
      " 1.49596184e+11 1.49596229e+11]\n",
      "[ 2.97800000e+04  2.98097798e+07  5.95897784e+07 ... -2.72331086e+08\n",
      " -2.42551168e+08 -2.12771239e+08]\n",
      "Distance entre la Terre initiale et la Terre après un an selon cette fonction =  -262551.8989868164\n"
     ]
    }
   ],
   "source": [
    "# [votre code ici pour Q17, à réutiliser ensuite en étudiant les Q19-21]\n",
    "dt = 1\n",
    "N = 365*24*3600//dt       #pas/an\n",
    "xB = xTerre\n",
    "xA = xSoleil\n",
    "vB = np.array([0,v0,0])\n",
    "x_points = np.array([])\n",
    "y_points = np.array([])\n",
    "nouvel_x = np.array([])\n",
    "nouvel_v = np.array([])\n",
    "for i in range(N):\n",
    "    nouvel_x,nouvel_v = champStatiqueAvanceUnPas(xA,xB,vB,dt)\n",
    "    xB = nouvel_x\n",
    "    vB = nouvel_v\n",
    "    if i%1000 == 0:\n",
    "        x_points = np.append(x_points,xB[0])\n",
    "        y_points = np.append(y_points,xB[1])\n",
    "print(x_points)\n",
    "print(y_points)\n",
    "print(\"Distance entre la Terre initiale et la Terre après un an selon cette fonction = \",(d0-xB[0]))"
   ]
  },
  {
   "cell_type": "markdown",
   "id": "broadband-athens",
   "metadata": {},
   "source": [
    "_Définissons le temps total d'un an en seconde T = N*dt = 31536000(s) \n",
    "On a choisi dt = 86400(s), c'est-à-dire la Terre avance un pas par jour au tour du Soleil. Donc, N = 365 (pas)_"
   ]
  },
  {
   "cell_type": "markdown",
   "id": "noted-actor",
   "metadata": {},
   "source": [
    "[Q18] Visualiser l'évolution temporelle de la position de la Terre.\n",
    " * Remarques : Il est convenable de pouvour visualiser ce que fait le calcul. À cette fin, vous pouvez utiliser la fonction `scatter()` de `matplotlib.pyplot`. Astuce : au lieu de dessiner un point par pas, vous pourriez dessiner un point par 1000 pas (ou 100, ou $10^4$, ou etc, en fonction de sa durée) ; [l'opération modulo](https://fr.wikipedia.org/wiki/Modulo_(op%C3%A9ration)) (`%`, le reste de la division d'entiers) pourrait vous aider. Vous pouvez ainsi utiliser un pas court sans stocker un nombre excessif de points."
   ]
  },
  {
   "cell_type": "code",
   "execution_count": 14,
   "id": "muslim-factor",
   "metadata": {},
   "outputs": [
    {
     "data": {
      "text/plain": [
       "<matplotlib.collections.PathCollection at 0x25d480aa3d0>"
      ]
     },
     "execution_count": 14,
     "metadata": {},
     "output_type": "execute_result"
    },
    {
     "data": {
      "image/png": "[encoded data removed]",
      "text/plain": [
       "<Figure size 640x480 with 1 Axes>"
      ]
     },
     "metadata": {},
     "output_type": "display_data"
    }
   ],
   "source": [
    "# [votre code ici pour Q18]\n",
    "plt.scatter(x_points,y_points)"
   ]
  },
  {
   "cell_type": "markdown",
   "id": "eleven-rolling",
   "metadata": {},
   "source": [
    "Questions à considérer, muni de votre outil de simulation numérique :\n",
    "\n",
    "+ [Q19] Est-ce que la Terre est revenue à son point de départ après un an ? (À quelle précision ?)\n",
    "+ [Q20] Que se passe-t-il si le pas $dt$ varie ? (Vous pouvez tenter, par exemple, {10000s, 1000s, 100s, 10s, 1s} ou {1jour, 1heure, 1min, 1s}. Attention, le calcul pourrait devenir long dans le cas d'un pas court.)\n",
    "+ [Q21] Que se passe-t-il après plusieurs cycles, par exemple au fil de 10 ans, ou de 100 ans ?"
   ]
  },
  {
   "cell_type": "markdown",
   "id": "political-bracket",
   "metadata": {},
   "source": [
    "_(vos observations ici pour les Q19-21)\n",
    "la Terre ne revient pas exactement à son point de départ après un an, car elle a également tourné sur elle-même pendant cette période.\n",
    "Si le pas dt varie,le pas de temps est très court, le calcul devenir long. Si le pas de temps est très long. On a tentée par dt=1jour la figure représente les point mouvement du terre au tour de soleil, dt=1heure,le point va être precis et devenir une courbe; ldt=1s,la figure représente une ovale.\n",
    "Après plusieurs cycles, la Terre ne reviendra pas exactement à son point de départ initial.car la Terre et le Soleil tournent sur elle même._\n",
    " "
   ]
  },
  {
   "cell_type": "markdown",
   "id": "bottom-principle",
   "metadata": {},
   "source": [
    "---"
   ]
  },
  {
   "cell_type": "markdown",
   "id": "secret-clearing",
   "metadata": {},
   "source": [
    "# 3. Un système à deux corps [s'il vous reste le temps nécessaire]\n",
    "\n",
    "Dans la réalité, le Soleil n'est pas fixe et immobile (troisième loi de Newton). Parce que la force subie par la Terre dépend de la position du Soleil, ce déplacement changera l'évolution subséquente du système. Son comportement devient plus complexe : le mouvement de la Terre dépend du mouvement du Soleil, qui dépend du mouvement de la Terre.\n",
    "\n",
    "Nous adapterons notre simulation numérique pour qu'elle tienne compte du mouvement du Soleil. Pour ce faire, nous retenons la même approche itérative ; la différence, c'est qu'il faut maintenant suivre davantage de paramètres.\n",
    "\n",
    "[Q22] D'abord, écrire une nouvelle fonction (prennant en entrée les valeurs actuelles de `xA`, `xB`, `vA`, `vB` et un pas `dt`) qui fait avancer les positions et les vitesse d'un pas, et renvoie les nouvelles valeurs.\n",
    "Vous pouvez utiliser la trame suivante :\n",
    "\n",
    "```python\n",
    "def systemeDeuxCorpsAvanceUnPas(xA, xB, vA, vB, dt):\n",
    "    # votre code ici\n",
    "    nouvelle_xA = [...]\n",
    "    nouvelle_vA = [...]\n",
    "    nouvelle_xB = [...]\n",
    "    nouvelle_vB = [...]\n",
    "    return nouvelle_xA, nouvelle_vA, nouvelle_xB, nouvelle_vB\n",
    "```"
   ]
  },
  {
   "cell_type": "code",
   "execution_count": 28,
   "id": "minimal-image",
   "metadata": {},
   "outputs": [],
   "source": [
    "# [votre code ici pour Q22]\n",
    "def systemeDeuxCorpsAvanceUnPas(xA, xB, vA, vB, dt):\n",
    "    FtA = forceGravitationnelle(xB,xA,mTerre,mSoleil)\n",
    "    FtB = forceGravitationnelle(xA,xB,mSoleil,mTerre)\n",
    "    aA = FtA/mSoleil\n",
    "    aB = FtB/mTerre\n",
    "    dvA = dt*np.array(aA)\n",
    "    dxA = dt*np.array(vA)\n",
    "    dvB = dt*np.array(aB)\n",
    "    dxB = dt*np.array(vB)\n",
    "    nouvelle_xA = xA + dxA\n",
    "    nouvelle_vA = vA + dvA\n",
    "    nouvelle_xB = xB + dxB\n",
    "    nouvelle_vB = vB + dvB\n",
    "    return nouvelle_xA, nouvelle_vA, nouvelle_xB, nouvelle_vB"
   ]
  },
  {
   "cell_type": "markdown",
   "id": "later-reporter",
   "metadata": {},
   "source": [
    "[Q23] Choisir les valeurs initiales des paramètres pour que le centre de masse (barycentre) du système soit (i) à l'origine, et (ii) au repos, c'est-à-dire de vitesse nulle. (Ces choix n'ont pas de signification physique, dans un sens fondamental, mais ils rendront plus simple le modèle du système.) Comme auparavant, on veut que la distance Terre-Soleil à $t=0$ soit $d_0$ et la vitesse relative à $t=0$ soit $v_0$."
   ]
  },
  {
   "cell_type": "markdown",
   "id": "incorporated-dictionary",
   "metadata": {},
   "source": [
    "_(vos remarques ici sur le choix des valeurs initiales pour Q23) \\n\n",
    "Cm(A,B) = (mAxA + mBxB)/mA+mB = 0 = x(Cm) (vecteur nul) (t=0) \\n\n",
    "vecteur vitesse du centre de masse v(Cm) = d/dt(x(Cm)) = 0 (t=0) \\n\n",
    "(1) Pour le système Soleil_Terre, à t=0, on a: (mSxS+mTxT)/(mS+mT) = 0 (vecteur nul) \n",
    "-> { mSxS+mTxT = 0; xT-xS = d0}\n",
    "-> (t=0) {xT = (0,d0,0), xS= (0,0,0)}\n",
    "(2) à partir du vecteur vitesse de Cm, on a:\n",
    "d/dt(mSxS+mTxT) = 0 \n",
    "-> mS*dxS/dt + mT*dxT/dt = 0\n",
    "-> mSvS + mTvT = 0 \n",
    "-> {vT = (0,v0,0), vS = (0,-v0*(mT/mS),0)}\n",
    "0,"
   ]
  },
  {
   "cell_type": "code",
   "execution_count": 29,
   "id": "psychological-eugene",
   "metadata": {},
   "outputs": [
    {
     "name": "stdout",
     "output_type": "stream",
     "text": [
      "[ 0.          0.00891395  0.03563798 ... -0.36463336 -0.52029119\n",
      " -0.65813904] [-8.94373447e-02 -8.95267815e+01 -1.78964122e+02 ...  8.26347483e+02\n",
      "  7.36910386e+02  6.47473259e+02]\n",
      "[1.49596006e+11 1.49596003e+11 1.49595994e+11 ... 1.49596127e+11\n",
      " 1.49596179e+11 1.49596225e+11] [ 2.97800000e+04  2.98097798e+07  5.95897784e+07 ... -2.75149359e+08\n",
      " -2.45369441e+08 -2.15589514e+08]\n"
     ]
    }
   ],
   "source": [
    "# [votre code ici pour Q23, à réutiliser ensuite pour Q25-26]\n",
    "vS = np.array([0,-v0*(mTerre/mSoleil),0])\n",
    "vT = np.array([0,v0,0])\n",
    "xS = xSoleil\n",
    "xT = xTerre\n",
    "xS_points = np.array([])\n",
    "yS_points = np.array([])\n",
    "nouvel_xS = np.array([])\n",
    "nouvel_vS = np.array([])\n",
    "xT_points = np.array([])\n",
    "yT_points = np.array([])\n",
    "nouvel_xT = np.array([])\n",
    "nouvel_vT = np.array([])\n",
    "for i in range(N):\n",
    "    nouvel_xS,nouvel_vS,nouvel_xT,nouvel_vT = systemeDeuxCorpsAvanceUnPas(xS,xT,vS,vT,dt)\n",
    "    xS = nouvel_xS\n",
    "    vS = nouvel_vS\n",
    "    xT = nouvel_xT\n",
    "    vT = nouvel_vT\n",
    "    if i%1000 == 0:\n",
    "        xS_points = np.append(xS_points,xS[0])\n",
    "        yS_points = np.append(yS_points,xS[1])\n",
    "        xT_points = np.append(xT_points,xT[0])\n",
    "        yT_points = np.append(yT_points,xT[1])\n",
    "print(xS_points,yS_points)\n",
    "print(xT_points,yT_points)\n"
   ]
  },
  {
   "cell_type": "markdown",
   "id": "complimentary-silicon",
   "metadata": {},
   "source": [
    "[Q24] Ensuite, utiliser cette fonction pour calculer l'évolution du système. \n",
    "\n",
    "Questions à considérer :\n",
    "\n",
    "+ [Q25] Est-ce que le système se comporte différemment du modèle simplifié ci-dessus (d'un Soleil fixe) ? Pourquoi ?\n",
    "+ [Q26] Est-ce que la position et la vitesse du centre de masse sont censées varier au fil du temps ? Est-ce le cas en pratique, selon votre modèle ?"
   ]
  },
  {
   "cell_type": "markdown",
   "id": "reflected-absorption",
   "metadata": {},
   "source": [
    "_(vos remarques ici pour Q25)\n",
    "ce système se comporte la même façon que ci-dessus parce que la Terre bouge au tour du Soleil et le Soleil bouge aussi autour d'un point au milieu du système _"
   ]
  },
  {
   "cell_type": "markdown",
   "id": "minute-bouquet",
   "metadata": {},
   "source": [
    "_(vos remarques ici pour Q26)\n",
    "la position du centre de masse va varier car les deux corps changent leur position au fil du temps mais la vitesse doit être nulle en tout cas  _"
   ]
  },
  {
   "cell_type": "code",
   "execution_count": 33,
   "id": "novel-maldives",
   "metadata": {
    "scrolled": false
   },
   "outputs": [
    {
     "data": {
      "text/plain": [
       "<matplotlib.legend.Legend at 0x25d49af4fd0>"
      ]
     },
     "execution_count": 33,
     "metadata": {},
     "output_type": "execute_result"
    },
    {
     "data": {
      "image/png": "[encoded data removed]",
      "text/plain": [
       "<Figure size 640x480 with 1 Axes>"
      ]
     },
     "metadata": {},
     "output_type": "display_data"
    }
   ],
   "source": [
    "# [votre code ici pour Q25-26, le cas échéant]\n",
    "plt.scatter(xS_points,yS_points,label ='évolution de la position du Soleil')\n",
    "plt.scatter(xT_points,yT_points,label ='évolution de la position de la Terre')\n",
    "plt.title(\"Trajectoire d'un système de 2 corps\")\n",
    "plt.legend()\n",
    "\n"
   ]
  },
  {
   "cell_type": "markdown",
   "id": "legal-color",
   "metadata": {},
   "source": [
    "---"
   ]
  },
  {
   "cell_type": "markdown",
   "id": "precise-pipeline",
   "metadata": {},
   "source": [
    "# Pour aller plus loin\n",
    "\n",
    "Ci-dessous, quelques idées qui pourrait vous inspirer. La liste n'est pas exhaustive !\n",
    "\n",
    "## Idées pour la partie 1 :\n",
    "\n",
    "### Appliquer la troisième loi de Kepler à d'autres planètes ; incertitudes\n",
    "\n",
    "Les données du fichier ```nasa-exoplanetes.csv``` concernent les planètes suivantes :\n",
    "11 Com b,\n",
    "11 UMi b,\n",
    "14 And b,\n",
    "14 Her b,\n",
    "16 Cyg B b,\n",
    "18 Del b,\n",
    "24 Boo b,\n",
    "24 Sex b,\n",
    "24 Sex c,\n",
    "2MASS J19383260+4603591 b,\n",
    "30 Ari B b,\n",
    "4 UMa b,\n",
    "42 Dra b,\n",
    "47 UMa b,\n",
    "47 UMa c,\n",
    "51 Peg b,\n",
    "55 Cnc b,\n",
    "55 Cnc c.\n",
    "\n",
    "Vous pouvez tester sa validité avec d'autres planètes de la base de données de la NASA.\n",
    "Attention : elle comprend énormément d'informations sur des milliers de planètes\n",
    "(et parfois plusieurs mesures par planète).\n",
    "Il n'est pas conseillé de traiter un grand nombre de planètes (pour qu'il reste un projet de physique et non d'informatique).\n",
    "Par contre, il pourrait être intéressant de tester la loi de Kepler dans des conditions\n",
    "extrèmes (p.ex. des planètes très massives, ou très loin de leurs astres, ou dans des systèmes à plusieurs astres).\n",
    "\n",
    "La plupart des mesures pertinantes ont des incertitudes associées.\n",
    "Pouvez-vous les inclure dans votre graphique, et/ou dans votre ajustement ?\n",
    "\n",
    "## Idées pour les parties 2+3 :\n",
    "\n",
    "### La méthode de Varlet\n",
    "\n",
    "L'algorithme itératif proposé dans la partie 2.4 correspond, en effet, à la méthode d'Euler. Il souffre des imprécisions si le pas dt n'est pas très court. Un autre algorithme, plus précis, est [la méthode de Verlet](https://fr.wikipedia.org/wiki/Int%C3%A9gration_de_Verlet). Au deuxième ordre, on peut l'exprimer sous la forme suivante :\n",
    "\n",
    "$$\\vec{v}_B(t + dt) = \\vec{v}_B(t) + \\vec{a}_B(t) dt$$\n",
    "$$\\vec{x}_B(t + dt) = \\vec{x}_B(t) + \\left[ \\frac{\\vec{v}_B(t) + \\vec{v}_B(t+dt)}{2} \\right] dt$$\n",
    "\n",
    "Vous pouvez mettre en comparaison la précision des deux méthodes (d'Euler et de Verlet) avec des pas grossiers, raisonnables, et fins. Les résultats, sont-ils cohérents ? Sous quelles conditions les méthodes sont-elles fiables ?\n",
    "\n",
    "### Un modèle plus réaliste du système Terre-Soleil ; vérifications numériques de la troisième loi de Kepler (via la simulation des parties 2-3)\n",
    "\n",
    "Les valeurs initiales du rayon et de la vitesse de la Terre (proposées dans les sections 2.3 et 2.4) ont été calculées tel qu'on obtienne une orbite quasi-circulaire ; elles correspondent bien aux valeurs expérimentales du demi-grand axe $a$ et de la vitesse _moyenne_ de [l'orbite](https://fr.wikipedia.org/wiki/Orbite_de_la_Terre). Cependant, dans la réalité l'orbite n'est pas strictement circulaire ; vous pouvez simuler l'orbite avec de valeurs plus précises de l'orbite de la Terre, ou d'une autre planète ayant une excentricité plus importante. Que vaut la période selon votre simulation ? Est-ce que cette valeur valide la troisième loi de Kepler ?\n",
    "\n",
    "### Un système à n corps\n",
    "\n",
    "Dans la partie 3, nous avons étudié un système à deux corps (le Soleil et la Terre). Pouvez-vous généraliser l'algorithme à plusieurs corps ? (Par exemple : le Soleil plus l'ensemble des planètes du [système solaire](https://fr.wikipedia.org/wiki/Syst%C3%A8me_solaire)). On garde l'approche itérative de base, mais à chaque itération il faudra calculer toutes les forces par paire (par exemple, la force Soleil-Terre, la force Soleil-Mars, la force Terre-Mars, ...) puis pour chaque corps calculer la somme vectorielle des forces (la résultante), puis en déduire l'accéleration, puis mettre à jour la position et la vitesse. L'orbite de la Terre, est-elle sensible à la présence des autres planètes ?\n",
    "\n",
    "### D'autres systèmes\n",
    "\n",
    "À l'aide de [la base de données NASA](https://exoplanetarchive.ipac.caltech.edu/cgi-bin/TblView/nph-tblView?app=ExoTbls&config=PS), vous pouvez simuler l'évolution d'un système astre-exoplanète. Se comporte-il d'une manière similaire à notre système solaire ? Y-a-t'il des différences ?"
   ]
  },
  {
   "cell_type": "markdown",
   "id": "humanitarian-reminder",
   "metadata": {},
   "source": [
    "----\n",
    "(Image du planétaire : Birmingham Museums Trust, via [Wikimedia Commons](https://en.wikipedia.org/wiki/File:Thinktank_Birmingham_-_object_1956S00682.00001(1).jpg))"
   ]
  }
 ],
 "metadata": {
  "kernelspec": {
   "display_name": "py3-9-13",
   "language": "python",
   "name": "conda-env-py3-9-13-py"
  },
  "language_info": {
   "codemirror_mode": {
    "name": "ipython",
    "version": 3
   },
   "file_extension": ".py",
   "mimetype": "text/x-python",
   "name": "python",
   "nbconvert_exporter": "python",
   "pygments_lexer": "ipython3",
   "version": "3.9.13"
  }
 },
 "nbformat": 4,
 "nbformat_minor": 5
}
